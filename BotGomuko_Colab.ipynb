{
 "cells": [
  {
   "cell_type": "markdown",
   "metadata": {},
   "source": [
    "# Huấn luyện AI chơi cờ Gomoku (Caro) với Deep Reinforcement Learning\n",
    "\n",
    "Notebook này cho phép bạn huấn luyện và chạy AI cờ Gomuko sử dụng Deep Reinforcement Learning trên Google Colab."
   ]
  },
  {
   "cell_type": "markdown",
   "metadata": {},
   "source": [
    "## Thiết lập môi trường\n",
    "\n",
    "Đầu tiên, chúng ta cần thiết lập các gói cần thiết và tải mã nguồn từ GitHub."
   ]
  },
  {
   "cell_type": "code",
   "execution_count": null,
   "metadata": {},
   "outputs": [],
   "source": [
    "# Cài đặt các gói cần thiết\n",
    "!pip install pygame numpy torch tensorboard tqdm matplotlib\n",
    "\n",
    "# Kiểm tra CUDA\n",
    "import torch\n",
    "print(f\"PyTorch version: {torch.__version__}\")\n",
    "print(f\"CUDA available: {torch.cuda.is_available()}\")\n",
    "if torch.cuda.is_available():\n",
    "    print(f\"CUDA version: {torch.version.cuda}\")\n",
    "    print(f\"CUDA device: {torch.cuda.get_device_name(0)}\")"
   ]
  },
  {
   "cell_type": "markdown",
   "metadata": {},
   "source": [
    "## Kết nối với Google Drive\n",
    "\n",
    "Kết nối với Google Drive để lưu trữ các mô hình và kết quả huấn luyện. Điều này giúp bạn không bị mất dữ liệu nếu phiên Colab bị ngắt kết nối."
   ]
  },
  {
   "cell_type": "code",
   "execution_count": null,
   "metadata": {},
   "outputs": [],
   "source": [
    "# Kết nối với Google Drive\n",
    "from google.colab import drive\n",
    "drive.mount('/content/drive')\n",
    "\n",
    "# Tạo thư mục cho dự án trên Google Drive (nếu chưa tồn tại)\n",
    "import os\n",
    "DRIVE_PROJECT_DIR = '/content/drive/MyDrive/BotGomuko'\n",
    "DRIVE_MODELS_DIR = f\"{DRIVE_PROJECT_DIR}/saved_models\"\n",
    "DRIVE_LOGS_DIR = f\"{DRIVE_PROJECT_DIR}/logs\"\n",
    "\n",
    "for directory in [DRIVE_PROJECT_DIR, DRIVE_MODELS_DIR, DRIVE_LOGS_DIR]:\n",
    "    os.makedirs(directory, exist_ok=True)\n",
    "\n",
    "print(f\"Google Drive đã được kết nối và thư mục dự án đã sẵn sàng tại {DRIVE_PROJECT_DIR}\")"
   ]
  },
  {
   "cell_type": "markdown",
   "metadata": {},
   "source": [
    "## Clone mã nguồn từ GitHub\n",
    "\n",
    "Sao chép mã nguồn từ kho GitHub để chạy trên Colab."
   ]
  },
  {
   "cell_type": "code",
   "execution_count": null,
   "metadata": {},
   "outputs": [],
   "source": [
    "# Clone repository (thay đổi URL nếu cần)\n",
    "!git clone https://github.com/yourusername/BotGomuko.git\n",
    "# Hoặc bạn có thể tải lên thủ công các file từ máy tính của bạn\n",
    "\n",
    "# Di chuyển đến thư mục dự án\n",
    "%cd BotGomuko"
   ]
  },
  {
   "cell_type": "markdown",
   "metadata": {},
   "source": [
    "## Hoặc tải lên thủ công\n",
    "\n",
    "Nếu bạn không có GitHub repository, bạn có thể tải lên các file thủ công. Chạy hàm bên dưới để tạo cấu trúc thư mục cần thiết."
   ]
  },
  {
   "cell_type": "code",
   "execution_count": null,
   "metadata": {},
   "outputs": [],
   "source": [
    "# Tạo cấu trúc thư mục nếu tải lên thủ công\n",
    "import os\n",
    "\n",
    "# Tạo các thư mục cần thiết\n",
    "directories = ['agents', 'game', 'utils', 'training', 'saved_models', 'logs']\n",
    "for directory in directories:\n",
    "    os.makedirs(directory, exist_ok=True)\n",
    "\n",
    "print(\"Cấu trúc thư mục đã được tạo. Vui lòng tải lên các file vào thư mục tương ứng.\")"
   ]
  },
  {
   "cell_type": "markdown",
   "metadata": {},
   "source": [
    "## Kiểm tra cấu trúc thư mục\n",
    "\n",
    "Đảm bảo rằng tất cả các file cần thiết đã có sẵn."
   ]
  },
  {
   "cell_type": "code",
   "execution_count": null,
   "metadata": {},
   "outputs": [],
   "source": [
    "# Liệt kê các file và kiểm tra cấu trúc thư mục\n",
    "!ls -R"
   ]
  },
  {
   "cell_type": "markdown",
   "metadata": {},
   "source": [
    "## Thiết lập pygame cho Colab\n",
    "\n",
    "Vì Colab không hỗ trợ hiển thị đồ họa trực tiếp, chúng ta cần thiết lập một số bước để pygame hoạt động."
   ]
  },
  {
   "cell_type": "code",
   "execution_count": null,
   "metadata": {},
   "outputs": [],
   "source": [
    "# Thiết lập pygame headless mode cho Colab\n",
    "import os\n",
    "os.environ['SDL_VIDEODRIVER'] = 'dummy'\n",
    "\n",
    "# Patch cho pygame trong colab\n",
    "import pygame\n",
    "pygame.init()\n",
    "pygame.display.set_mode((1, 1))\n",
    "print(\"Pygame đã được thiết lập!\")"
   ]
  },
  {
   "cell_type": "markdown",
   "metadata": {},
   "source": [
    "## Tạo script để tự động lưu mô hình vào Google Drive\n",
    "\n",
    "Tạo một script wrapper để đảm bảo các mô hình được lưu vào Google Drive thay vì lưu trong Colab (sẽ mất khi phiên hết hạn)."
   ]
  },
  {
   "cell_type": "code",
   "execution_count": null,
   "metadata": {},
   "outputs": [],
   "source": [
    "%%writefile save_to_drive.py\n",
    "import os\n",
    "import sys\n",
    "import time\n",
    "import shutil\n",
    "from pathlib import Path\n",
    "\n",
    "def create_drive_model_path(model_path, drive_base_dir):\n",
    "    \"\"\"Tạo đường dẫn tương ứng trên Google Drive\"\"\"\n",
    "    path = Path(model_path)\n",
    "    drive_path = os.path.join(drive_base_dir, path.name)\n",
    "    return drive_path\n",
    "\n",
    "def setup_drive_auto_save(original_args, drive_models_dir, drive_logs_dir):\n",
    "    \"\"\"Thiết lập tự động lưu mô hình vào Google Drive\"\"\"\n",
    "    import sys\n",
    "    import time\n",
    "    from main import self_train\n",
    "\n",
    "    # Phân tích tham số\n",
    "    args = {}\n",
    "    i = 0\n",
    "    while i < len(original_args):\n",
    "        if original_args[i].startswith('--'):\n",
    "            param = original_args[i][2:]\n",
    "            if i + 1 < len(original_args) and not original_args[i+1].startswith('--'):\n",
    "                args[param] = original_args[i+1]\n",
    "                i += 2\n",
    "            else:\n",
    "                args[param] = True\n",
    "                i += 1\n",
    "        else:\n",
    "            i += 1\n",
    "\n",
    "    # Thiết lập tham số\n",
    "    total_episodes = int(args.get('episodes', 10000))\n",
    "    save_interval = int(args.get('save-interval', 100))\n",
    "    resume = 'resume' in args\n",
    "    \n",
    "    # Đường dẫn mô hình\n",
    "    model_path = args.get('model', 'saved_models/rl_self_train.pt')\n",
    "    \n",
    "    # Tạo phiên bản drive của model_path\n",
    "    drive_model_path = create_drive_model_path(model_path, drive_models_dir)\n",
    "    \n",
    "    # Tạo thư mục TensorBoard trên Drive\n",
    "    timestr = time.strftime('%Y%m%d-%H%M%S')\n",
    "    drive_log_dir = f\"{drive_logs_dir}/self_train_{timestr}\"\n",
    "    os.makedirs(drive_log_dir, exist_ok=True)\n",
    "    \n",
    "    print(f\"\\n=== AUTO-SAVE TO GOOGLE DRIVE ENABLED ===\")\n",
    "    print(f\"Model path: {drive_model_path}\")\n",
    "    print(f\"TensorBoard logs: {drive_log_dir}\")\n",
    "    \n",
    "    # Nếu resume và có model trong Drive, sao chép về Colab\n",
    "    if resume and os.path.exists(drive_model_path):\n",
    "        print(f\"Tìm thấy mô hình trên Drive, sao chép về Colab để tiếp tục huấn luyện...\")\n",
    "        os.makedirs(os.path.dirname(model_path), exist_ok=True)\n",
    "        shutil.copy2(drive_model_path, model_path)\n",
    "    \n",
    "    # Hook for model saving\n",
    "    original_save = self_train.__globals__['RLAgent'].save\n",
    "    \n",
    "    def save_hook(self, filepath):\n",
    "        # Gọi hàm save gốc\n",
    "        original_save(self, filepath)\n",
    "        \n",
    "        # Nếu là checkpoint hoặc mô hình cuối cùng, lưu vào Drive\n",
    "        if '_ep' in filepath or 'self_train.pt' in filepath:\n",
    "            drive_path = create_drive_model_path(filepath, drive_models_dir)\n",
    "            os.makedirs(os.path.dirname(drive_path), exist_ok=True)\n",
    "            shutil.copy2(filepath, drive_path)\n",
    "            print(f\"Đã sao chép mô hình vào Drive: {drive_path}\")\n",
    "            \n",
    "            # Nếu có biểu đồ tiến độ, sao chép nó\n",
    "            progress_file = filepath.replace('.pt', '_progress_final.png')\n",
    "            if os.path.exists(progress_file):\n",
    "                drive_progress = create_drive_model_path(progress_file, drive_models_dir)\n",
    "                shutil.copy2(progress_file, drive_progress)\n",
    "                print(f\"Đã sao chép biểu đồ tiến độ vào Drive: {drive_progress}\")\n",
    "    \n",
    "    # Thay thế hàm save\n",
    "    self_train.__globals__['RLAgent'].save = save_hook\n",
    "    \n",
    "    # Start training\n",
    "    self_train(\n",
    "        total_episodes=total_episodes,\n",
    "        save_interval=save_interval,\n",
    "        model_path=model_path,\n",
    "        resume=resume,\n",
    "        use_tensorboard=True\n",
    "    )\n",
    "    \n",
    "if __name__ == \"__main__\":\n",
    "    if len(sys.argv) < 3:\n",
    "        print(\"Usage: python save_to_drive.py <drive_models_dir> <drive_logs_dir> [training args...]\")\n",
    "        sys.exit(1)\n",
    "        \n",
    "    drive_models_dir = sys.argv[1]\n",
    "    drive_logs_dir = sys.argv[2]\n",
    "    original_args = sys.argv[3:]\n",
    "    \n",
    "    setup_drive_auto_save(original_args, drive_models_dir, drive_logs_dir)"
   ]
  },
  {
   "cell_type": "markdown",
   "metadata": {},
   "source": [
    "## Huấn luyện mô hình với lưu trữ tự động trên Google Drive\n",
    "\n",
    "Bây giờ chúng ta có thể bắt đầu huấn luyện mô hình với các checkpoints sẽ được lưu tự động vào Google Drive."
   ]
  },
  {
   "cell_type": "code",
   "execution_count": null,
   "metadata": {},
   "outputs": [],
   "source": [
    "# Chạy huấn luyện với số tập nhỏ, tự động lưu vào Google Drive\n",
    "!python save_to_drive.py \"$DRIVE_MODELS_DIR\" \"$DRIVE_LOGS_DIR\" --episodes 1000 --save-interval 100"
   ]
  },
  {
   "cell_type": "markdown",
   "metadata": {},
   "source": [
    "## Theo dõi quá trình huấn luyện với TensorBoard\n",
    "\n",
    "Bạn có thể theo dõi quá trình huấn luyện bằng TensorBoard."
   ]
  },
  {
   "cell_type": "code",
   "execution_count": null,
   "metadata": {},
   "outputs": [],
   "source": [
    "# Khởi động TensorBoard\n",
    "%load_ext tensorboard\n",
    "%tensorboard --logdir logs"
   ]
  },
  {
   "cell_type": "markdown",
   "metadata": {},
   "source": [
    "## Huấn luyện đầy đủ\n",
    "\n",
    "Nếu bạn muốn huấn luyện mô hình với nhiều tập hơn (khuyến nghị ít nhất 5000-10000 tập):"
   ]
  },
  {
   "cell_type": "code",
   "execution_count": null,
   "metadata": {},
   "outputs": [],
   "source": [
    "# Huấn luyện với nhiều tập hơn - hãy cẩn thận vì điều này có thể mất nhiều thời gian\n",
    "# Kết quả sẽ tự động được lưu vào Google Drive\n",
    "!python save_to_drive.py \"$DRIVE_MODELS_DIR\" \"$DRIVE_LOGS_DIR\" --episodes 10000 --save-interval 500"
   ]
  },
  {
   "cell_type": "markdown",
   "metadata": {},
   "source": [
    "## Kiểm tra tiến trình huấn luyện từ Google Drive\n",
    "\n",
    "Sau khi huấn luyện, kiểm tra biểu đồ tiến trình và các mô hình đã lưu trên Google Drive."
   ]
  },
  {
   "cell_type": "code",
   "execution_count": null,
   "metadata": {},
   "outputs": [],
   "source": [
    "# Liệt kê các mô hình đã lưu trên Google Drive\n",
    "!ls -la \"$DRIVE_MODELS_DIR\"\n",
    "\n",
    "# Hiển thị một trong những biểu đồ tiến trình từ Google Drive\n",
    "from IPython.display import Image\n",
    "import os\n",
    "\n",
    "progress_files = [f for f in os.listdir(DRIVE_MODELS_DIR) if f.endswith('_progress_final.png') or f.endswith('_progress_ep*.png')]\n",
    "if progress_files:\n",
    "    latest_progress = progress_files[-1]\n",
    "    Image(filename=f'{DRIVE_MODELS_DIR}/{latest_progress}')\n",
    "else:\n",
    "    print(\"Không tìm thấy biểu đồ tiến trình huấn luyện trên Google Drive\")"
   ]
  },
  {
   "cell_type": "markdown",
   "metadata": {},
   "source": [
    "## Tiếp tục huấn luyện mô hình đã có từ Google Drive\n",
    "\n",
    "Nếu bạn muốn tiếp tục huấn luyện từ một mô hình đã lưu trước đó trên Google Drive:"
   ]
  },
  {
   "cell_type": "code",
   "execution_count": null,
   "metadata": {},
   "outputs": [],
   "source": [
    "# Tiếp tục huấn luyện từ mô hình đã lưu trên Google Drive\n",
    "!python save_to_drive.py \"$DRIVE_MODELS_DIR\" \"$DRIVE_LOGS_DIR\" --episodes 2000 --save-interval 200 --model saved_models/rl_self_train.pt --resume"
   ]
  },
  {
   "cell_type": "markdown",
   "metadata": {},
   "source": [
    "## Lưu ý\n",
    "\n",
    "1. Google Colab có thể ngắt kết nối sau vài giờ, đặc biệt khi sử dụng GPU miễn phí. Huấn luyện một mô hình tốt có thể mất nhiều giờ hoặc thậm chí nhiều ngày.\n",
    "2. Với tính năng tự động lưu vào Google Drive, bạn không cần lo lắng về việc mất mô hình khi Colab ngắt kết nối.\n",
    "3. Để tiếp tục huấn luyện, chỉ cần khởi động lại notebook và sử dụng tùy chọn `--resume`.\n",
    "4. Để có mô hình tốt, cần huấn luyện ít nhất 5000-10000 tập.\n",
    "5. Bạn có thể điều chỉnh các thông số trong file `config.json` hoặc sử dụng các đối số dòng lệnh để tối ưu hóa quá trình huấn luyện."
   ]
  }
 ],
 "metadata": {
  "language_info": {
   "name": "python"
  }
 },
 "nbformat": 4,
 "nbformat_minor": 2
}
