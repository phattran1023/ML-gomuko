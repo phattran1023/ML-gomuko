{
 "cells": [
  {
   "cell_type": "markdown",
   "metadata": {},
   "source": [
    "# Huấn luyện AI Gomoku với Tính Năng Nâng Cao\n",
    "\n",
    "Notebook đã được cập nhật với các tính năng mới giúp AI học hiệu quả hơn:\n",
    "- **Curriculum Learning**: Học từ đơn giản đến phức tạp\n",
    "- **Opponent Pool**: Đa dạng hóa đối thủ trong huấn luyện\n",
    "- **Phần thưởng cải tiến**: Khuyến khích thắng nhanh, tránh hòa"
   ]
  },
  {
   "cell_type": "markdown",
   "metadata": {},
   "source": [
    "## 1. Thiết lập môi trường Colab"
   ]
  },
  {
   "cell_type": "code",
   "execution_count": null,
   "metadata": {},
   "outputs": [],
   "source": [
    "# Kiểm tra GPU\n",
    "!nvidia-smi\n",
    "\n",
    "# Cài đặt các thư viện cần thiết\n",
    "!pip install pygame numpy torch torchvision tensorboard matplotlib pandas tqdm"
   ]
  },
  {
   "cell_type": "code",
   "execution_count": null,
   "metadata": {},
   "outputs": [],
   "source": [
    "# Kết nối Google Drive để lưu trữ mô hình\n",
    "from google.colab import drive\n",
    "drive.mount('/content/drive')\n",
    "\n",
    "# Tạo thư mục dự án\n",
    "import os\n",
    "DRIVE_PROJECT_DIR = '/content/drive/MyDrive/BotGomuko'\n",
    "DRIVE_MODELS_DIR = f\"{DRIVE_PROJECT_DIR}/saved_models\"\n",
    "DRIVE_LOGS_DIR = f\"{DRIVE_PROJECT_DIR}/logs\"\n",
    "\n",
    "# Tạo cấu trúc thư mục\n",
    "for directory in [DRIVE_PROJECT_DIR, DRIVE_MODELS_DIR, DRIVE_LOGS_DIR]:\n",
    "    os.makedirs(directory, exist_ok=True)\n",
    "    \n",
    "print(f\"Google Drive đã kết nối tại {DRIVE_PROJECT_DIR}\")"
   ]
  },
  {
   "cell_type": "markdown",
   "metadata": {},
   "source": [
    "## 2. Clone Repository từ GitHub\n",
    "\n",
    "Tải mã nguồn trực tiếp từ GitHub repository chính thức:"
   ]
  },
  {
   "cell_type": "code",
   "execution_count": null,
   "metadata": {},
   "outputs": [],
   "source": [
    "# Clone repository từ GitHub\n",
    "!git clone https://github.com/phattran1023/ML-gomuko.git\n",
    "\n",
    "# Di chuyển vào thư mục dự án\n",
    "%cd ML-gomuko\n",
    "\n",
    "# Kiểm tra cấu trúc thư mục\n",
    "!ls -la"
   ]
  },
  {
   "cell_type": "code",
   "execution_count": null,
   "metadata": {},
   "outputs": [],
   "source": [
    "# Thiết lập pygame cho Colab (headless mode)\n",
    "import os\n",
    "os.environ['SDL_VIDEODRIVER'] = 'dummy'\n",
    "\n",
    "# Khởi tạo pygame\n",
    "import pygame\n",
    "pygame.init()\n",
    "pygame.display.set_mode((1, 1))\n",
    "print(\"Pygame đã sẵn sàng trong chế độ headless\")"
   ]
  },
  {
   "cell_type": "markdown",
   "metadata": {},
   "source": [
    "## 3. Tạo Script Tự Động Lưu vào Drive\n",
    "\n",
    "Script này đảm bảo mô hình được lưu vào Drive và không bị mất khi Colab ngắt kết nối:"
   ]
  },
  {
   "cell_type": "code",
   "execution_count": null,
   "metadata": {},
   "outputs": [],
   "source": [
    "%%writefile save_to_drive.py\n",
    "import os\n",
    "import sys\n",
    "import time\n",
    "import shutil\n",
    "from pathlib import Path\n",
    "\n",
    "def create_drive_model_path(model_path, drive_base_dir):\n",
    "    \"\"\"Tạo đường dẫn tương ứng trên Google Drive\"\"\"\n",
    "    path = Path(model_path)\n",
    "    drive_path = os.path.join(drive_base_dir, path.name)\n",
    "    return drive_path\n",
    "\n",
    "def setup_drive_auto_save(original_args, drive_models_dir, drive_logs_dir):\n",
    "    \"\"\"Thiết lập tự động lưu mô hình vào Google Drive\"\"\"\n",
    "    import sys\n",
    "    import time\n",
    "    from main import self_train\n",
    "\n",
    "    # Áp dụng tối ưu hóa cho Colab\n",
    "    try:\n",
    "        from colab_optimizer import optimize_for_colab, patch_agent_for_colab\n",
    "        optimize_for_colab()\n",
    "        # Áp dụng patch cho RLAgent\n",
    "        from agents.rl_agent import RLAgent\n",
    "        patch_agent_for_colab(RLAgent)\n",
    "        print(\"Đã áp dụng tối ưu hóa cho Colab\")\n",
    "    except Exception as e:\n",
    "        print(f\"Không thể áp dụng tối ưu hóa Colab: {e}\")\n",
    "\n",
    "    # Phân tích tham số\n",
    "    args = {}\n",
    "    i = 0\n",
    "    while i < len(original_args):\n",
    "        if original_args[i].startswith('--'):\n",
    "            param = original_args[i][2:]\n",
    "            if i + 1 < len(original_args) and not original_args[i+1].startswith('--'):\n",
    "                args[param] = original_args[i+1]\n",
    "                i += 2\n",
    "            else:\n",
    "                args[param] = True\n",
    "                i += 1\n",
    "        else:\n",
    "            i += 1\n",
    "\n",
    "    # Thiết lập tham số\n",
    "    total_episodes = int(args.get('episodes', 10000))\n",
    "    save_interval = int(args.get('save-interval', 100))\n",
    "    resume = 'resume' in args\n",
    "    use_curriculum = 'curriculum' in args\n",
    "    use_opponent_pool = not ('no-opponent-pool' in args)\n",
    "    \n",
    "    # Đường dẫn mô hình\n",
    "    model_path = args.get('model', 'saved_models/rl_self_train.pt')\n",
    "    \n",
    "    # Tạo phiên bản drive của model_path\n",
    "    drive_model_path = create_drive_model_path(model_path, drive_models_dir)\n",
    "    \n",
    "    # Tạo thư mục TensorBoard trên Drive\n",
    "    timestr = time.strftime('%Y%m%d-%H%M%S')\n",
    "    drive_log_dir = f\"{drive_logs_dir}/self_train_{timestr}\"\n",
    "    os.makedirs(drive_log_dir, exist_ok=True)\n",
    "    \n",
    "    print(f\"\\n=== AUTO-SAVE TO GOOGLE DRIVE ENABLED ===\")\n",
    "    print(f\"Model path: {drive_model_path}\")\n",
    "    print(f\"TensorBoard logs: {drive_log_dir}\")\n",
    "    \n",
    "    # Nếu resume và có model trong Drive, sao chép về Colab\n",
    "    if resume and os.path.exists(drive_model_path):\n",
    "        print(f\"Tìm thấy mô hình trên Drive, sao chép về Colab để tiếp tục huấn luyện...\")\n",
    "        os.makedirs(os.path.dirname(model_path), exist_ok=True)\n",
    "        shutil.copy2(drive_model_path, model_path)\n",
    "    \n",
    "    # Hook for model saving\n",
    "    original_save = self_train.__globals__['RLAgent'].save\n",
    "    \n",
    "    def save_hook(self, filepath):\n",
    "        # Gọi hàm save gốc\n",
    "        original_save(self, filepath)\n",
    "        \n",
    "        # Nếu là checkpoint hoặc mô hình cuối cùng, lưu vào Drive\n",
    "        if '_ep' in filepath or 'self_train.pt' in filepath:\n",
    "            drive_path = create_drive_model_path(filepath, drive_models_dir)\n",
    "            os.makedirs(os.path.dirname(drive_path), exist_ok=True)\n",
    "            shutil.copy2(filepath, drive_path)\n",
    "            print(f\"Đã sao chép mô hình vào Drive: {drive_path}\")\n",
    "            \n",
    "            # Sao chép các biểu đồ liên quan\n",
    "            for suffix in ['_progress_final.png', '_opponents_ep', '_curriculum_ep', '_win_rates_ep']:\n",
    "                base_name = os.path.splitext(filepath)[0]\n",
    "                for f in os.listdir(os.path.dirname(filepath)):\n",
    "                    if f.startswith(os.path.basename(base_name)) and suffix in f:\n",
    "                        source_path = os.path.join(os.path.dirname(filepath), f)\n",
    "                        dest_path = os.path.join(drive_models_dir, f)\n",
    "                        shutil.copy2(source_path, dest_path)\n",
    "                        print(f\"Đã sao chép biểu đồ vào Drive: {dest_path}\")\n",
    "    \n",
    "    # Thay thế hàm save\n",
    "    self_train.__globals__['RLAgent'].save = save_hook\n",
    "    \n",
    "    # Start training với các tính năng mới\n",
    "    self_train(\n",
    "        total_episodes=total_episodes,\n",
    "        save_interval=save_interval,\n",
    "        model_path=model_path,\n",
    "        resume=resume,\n",
    "        use_tensorboard=True,\n",
    "        use_curriculum=use_curriculum,\n",
    "        use_pool=use_opponent_pool,\n",
    "        verbose=1\n",
    "    )\n",
    "    \n",
    "if __name__ == \"__main__\":\n",
    "    if len(sys.argv) < 3:\n",
    "        print(\"Usage: python save_to_drive.py <drive_models_dir> <drive_logs_dir> [training args...]\")\n",
    "        sys.exit(1)\n",
    "        \n",
    "    drive_models_dir = sys.argv[1]\n",
    "    drive_logs_dir = sys.argv[2]\n",
    "    original_args = sys.argv[3:]\n",
    "    \n",
    "    setup_drive_auto_save(original_args, drive_models_dir, drive_logs_dir)"
   ]
  },
  {
   "cell_type": "markdown",
   "metadata": {},
   "source": [
    "## 4. Kiểm tra và Cập Nhật Repository (Tùy chọn)\n",
    "\n",
    "Kiểm tra và cập nhật phiên bản mới nhất từ GitHub nếu cần:"
   ]
  },
  {
   "cell_type": "code",
   "execution_count": null,
   "metadata": {},
   "outputs": [],
   "source": [
    "# Kiểm tra phiên bản hiện tại\n",
    "!git log -1 --pretty=format:\"%h - %an, %ar : %s\"\n",
    "\n",
    "# Cập nhật repository nếu cần\n",
    "!git pull origin main"
   ]
  },
  {
   "cell_type": "markdown",
   "metadata": {},
   "source": [
    "## 5. Huấn luyện với Tính Năng Nâng Cao\n",
    "\n",
    "Chọn một trong các phương pháp huấn luyện sau:"
   ]
  },
  {
   "cell_type": "markdown",
   "metadata": {},
   "source": [
    "### Giải thích các tính năng nâng cao:\n",
    "\n",
    "#### 1. Curriculum Learning\n",
    "- **Giai đoạn 1**: Bàn cờ trống, học từ đầu\n",
    "- **Giai đoạn 2**: Bắt đầu với 3-5 quân cờ ngẫu nhiên\n",
    "- **Giai đoạn 3**: Bắt đầu với 6-10 quân cờ\n",
    "- **Giai đoạn 4**: Tình huống tấn công (3 quân liên tiếp)\n",
    "- **Giai đoạn 5**: Tình huống phòng thủ (đối thủ có 3 quân liên tiếp)\n",
    "\n",
    "#### 2. Opponent Pool\n",
    "- Lưu 5 phiên bản gần nhất của AI làm đối thủ\n",
    "- Cứ 10 tập sẽ đấu với một trong các phiên bản cũ\n",
    "- Giúp AI đa dạng hóa chiến thuật\n",
    "\n",
    "#### 3. Phần thưởng cải tiến\n",
    "- Phần thưởng âm cho kết quả hòa (-0.1)\n",
    "- Phần thưởng thêm cho thắng nhanh (tối đa +1.0)"
   ]
  },
  {
   "cell_type": "code",
   "execution_count": null,
   "metadata": {},
   "outputs": [],
   "source": [
    "# ===== KHUYẾN NGHỊ: Huấn luyện đầy đủ với tất cả tính năng =====\n",
    "!python save_to_drive.py \"$DRIVE_MODELS_DIR\" \"$DRIVE_LOGS_DIR\" --episodes 10000 --save-interval 500 --curriculum"
   ]
  },
  {
   "cell_type": "code",
   "execution_count": null,
   "metadata": {},
   "outputs": [],
   "source": [
    "# Huấn luyện với chỉ Curriculum Learning\n",
    "!python save_to_drive.py \"$DRIVE_MODELS_DIR\" \"$DRIVE_LOGS_DIR\" --episodes 5000 --save-interval 200 --curriculum --no-opponent-pool"
   ]
  },
  {
   "cell_type": "code",
   "execution_count": null,
   "metadata": {},
   "outputs": [],
   "source": [
    "# Tiếp tục huấn luyện từ checkpoint\n",
    "!python save_to_drive.py \"$DRIVE_MODELS_DIR\" \"$DRIVE_LOGS_DIR\" --episodes 5000 --save-interval 200 --curriculum --resume"
   ]
  },
  {
   "cell_type": "markdown",
   "metadata": {},
   "source": [
    "## 6. Giám sát Quá trình Huấn luyện\n",
    "\n",
    "Theo dõi quá trình huấn luyện bằng TensorBoard:"
   ]
  },
  {
   "cell_type": "code",
   "execution_count": null,
   "metadata": {},
   "outputs": [],
   "source": [
    "# Khởi động TensorBoard để theo dõi quá trình huấn luyện\n",
    "%load_ext tensorboard\n",
    "%tensorboard --logdir logs"
   ]
  },
  {
   "cell_type": "markdown",
   "metadata": {},
   "source": [
    "## 7. Đánh giá Mô hình\n",
    "\n",
    "Đánh giá mô hình bằng script đánh giá mới:"
   ]
  },
  {
   "cell_type": "code",
   "execution_count": null,
   "metadata": {},
   "outputs": [],
   "source": [
    "# Sao chép mô hình từ Drive để đánh giá\n",
    "!mkdir -p saved_models\n",
    "!cp \"$DRIVE_MODELS_DIR/rl_self_train.pt\" saved_models/ 2>/dev/null || echo \"Không tìm thấy mô hình, hãy huấn luyện trước\"\n",
    "\n",
    "# Đánh giá toàn diện\n",
    "!python evaluate_model.py --model saved_models/rl_self_train.pt --mode all --num-games 50\n",
    "\n",
    "# Hiển thị kết quả đánh giá\n",
    "from IPython.display import Image\n",
    "Image(filename='model_evaluation.png')"
   ]
  },
  {
   "cell_type": "code",
   "execution_count": null,
   "metadata": {},
   "outputs": [],
   "source": [
    "# Đánh giá với MCTS (mạnh hơn nhưng chậm hơn)\n",
    "!python evaluate_model.py --model saved_models/rl_self_train.pt --mode random --num-games 10 --use-mcts --simulations 50"
   ]
  },
  {
   "cell_type": "code",
   "execution_count": null,
   "metadata": {},
   "outputs": [],
   "source": [
    "# So sánh các phiên bản (checkpoint) khác nhau\n",
    "!mkdir -p saved_models\n",
    "!cp \"$DRIVE_MODELS_DIR\"/*_ep*.pt saved_models/ 2>/dev/null || echo \"Không tìm thấy checkpoint\"\n",
    "!python evaluate_model.py --model saved_models/rl_self_train.pt --mode compare --num-games 10 --models-dir saved_models"
   ]
  },
  {
   "cell_type": "markdown",
   "metadata": {},
   "source": [
    "## 8. Hiển thị Biểu đồ Huấn luyện\n",
    "\n",
    "Xem các biểu đồ phân tích quá trình huấn luyện:"
   ]
  },
  {
   "cell_type": "code",
   "execution_count": null,
   "metadata": {},
   "outputs": [],
   "source": [
    "# Hiển thị biểu đồ tiến trình huấn luyện từ Drive\n",
    "import glob\n",
    "from IPython.display import Image, display\n",
    "\n",
    "# Kiểm tra biểu đồ tiến trình\n",
    "progress_plots = sorted(glob.glob(f\"{DRIVE_MODELS_DIR}/*progress*.png\"))\n",
    "if progress_plots:\n",
    "    print(f\"Hiển thị biểu đồ tiến trình mới nhất: {progress_plots[-1]}\")\n",
    "    display(Image(filename=progress_plots[-1]))\n",
    "else:\n",
    "    print(\"Không tìm thấy biểu đồ tiến trình\")\n",
    "\n",
    "# Kiểm tra biểu đồ curriculum\n",
    "curriculum_plots = sorted(glob.glob(f\"{DRIVE_MODELS_DIR}/*curriculum*.png\"))\n",
    "if curriculum_plots:\n",
    "    print(f\"\\nHiển thị biểu đồ curriculum learning mới nhất: {curriculum_plots[-1]}\")\n",
    "    display(Image(filename=curriculum_plots[-1]))\n",
    "\n",
    "# Kiểm tra biểu đồ opponent distribution\n",
    "opponent_plots = sorted(glob.glob(f\"{DRIVE_MODELS_DIR}/*opponents*.png\"))\n",
    "if opponent_plots:\n",
    "    print(f\"\\nHiển thị biểu đồ phân phối đối thủ mới nhất: {opponent_plots[-1]}\")\n",
    "    display(Image(filename=opponent_plots[-1]))"
   ]
  }
 ],
 "metadata": {
  "language_info": {
   "name": "python"
  }
 },
 "nbformat": 4,
 "nbformat_minor": 2
}
